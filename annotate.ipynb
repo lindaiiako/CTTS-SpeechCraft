{
 "cells": [
  {
   "cell_type": "code",
   "execution_count": 1,
   "id": "60e6af9d",
   "metadata": {},
   "outputs": [
    {
     "name": "stdout",
     "output_type": "stream",
     "text": [
      "Fri Sep  5 18:48:09 2025       \n",
      "+-----------------------------------------------------------------------------------------+\n",
      "| NVIDIA-SMI 560.35.05              Driver Version: 560.35.05      CUDA Version: 12.6     |\n",
      "|-----------------------------------------+------------------------+----------------------+\n",
      "| GPU  Name                 Persistence-M | Bus-Id          Disp.A | Volatile Uncorr. ECC |\n",
      "| Fan  Temp   Perf          Pwr:Usage/Cap |           Memory-Usage | GPU-Util  Compute M. |\n",
      "|                                         |                        |               MIG M. |\n",
      "|=========================================+========================+======================|\n",
      "|   0  NVIDIA GeForce RTX 3090        On  |   00000000:CE:00.0 Off |                  N/A |\n",
      "| 30%   34C    P8             34W /  350W |       4MiB /  24576MiB |      0%      Default |\n",
      "|                                         |                        |                  N/A |\n",
      "+-----------------------------------------+------------------------+----------------------+\n",
      "                                                                                         \n",
      "+-----------------------------------------------------------------------------------------+\n",
      "| Processes:                                                                              |\n",
      "|  GPU   GI   CI        PID   Type   Process name                              GPU Memory |\n",
      "|        ID   ID                                                               Usage      |\n",
      "|=========================================================================================|\n",
      "|  No running processes found                                                             |\n",
      "+-----------------------------------------------------------------------------------------+\n"
     ]
    }
   ],
   "source": [
    "!nvidia-smi"
   ]
  },
  {
   "cell_type": "code",
   "execution_count": 2,
   "id": "74e641eb",
   "metadata": {},
   "outputs": [
    {
     "name": "stdout",
     "output_type": "stream",
     "text": [
      "2.2.0+cu121\n"
     ]
    }
   ],
   "source": [
    "import torch\n",
    "\n",
    "print(torch.__version__)"
   ]
  },
  {
   "cell_type": "code",
   "execution_count": 1,
   "id": "1d01304e",
   "metadata": {},
   "outputs": [
    {
     "name": "stdout",
     "output_type": "stream",
     "text": [
      "WARNING:root:Key Conformer already exists in model_classes, re-register\n",
      "WARNING:root:Key Linear already exists in adaptor_classes, re-register\n",
      "WARNING:root:Key TransformerDecoder already exists in decoder_classes, re-register\n",
      "WARNING:root:Key LightweightConvolutionTransformerDecoder already exists in decoder_classes, re-register\n",
      "WARNING:root:Key LightweightConvolution2DTransformerDecoder already exists in decoder_classes, re-register\n",
      "WARNING:root:Key DynamicConvolutionTransformerDecoder already exists in decoder_classes, re-register\n",
      "WARNING:root:Key DynamicConvolution2DTransformerDecoder already exists in decoder_classes, re-register\n",
      "WARNING:root:Key Conformer already exists in model_classes, re-register\n",
      "WARNING:root:Key Linear already exists in adaptor_classes, re-register\n",
      "WARNING:root:Key TransformerDecoder already exists in decoder_classes, re-register\n",
      "WARNING:root:Key LightweightConvolutionTransformerDecoder already exists in decoder_classes, re-register\n",
      "WARNING:root:Key LightweightConvolution2DTransformerDecoder already exists in decoder_classes, re-register\n",
      "WARNING:root:Key DynamicConvolutionTransformerDecoder already exists in decoder_classes, re-register\n",
      "WARNING:root:Key DynamicConvolution2DTransformerDecoder already exists in decoder_classes, re-register\n",
      "/home3/s20245649/.conda/envs/speechcraft/lib/python3.9/site-packages/transformers/modeling_utils.py:3437: FutureWarning: The `use_auth_token` argument is deprecated and will be removed in v5 of Transformers. Please use `token` instead.\n",
      "  warnings.warn(\n",
      "funasr version: 1.1.16.\n",
      "Check update of funasr, and it would cost few times. You may disable it by set `disable_update=True` in AutoModel\n",
      "New version is available: 1.2.7.\n",
      "Please use the command \"pip install -U funasr\" to upgrade.\n",
      "Fetching 9 files: 100%|███████████████████████| 9/9 [00:00<00:00, 169276.84it/s]\n",
      "Warning, miss key in ckpt: modality_encoders.AUDIO.decoder.blocks.0.0.weight, /home3/s20245649/.cache/huggingface/hub/models--emotion2vec--emotion2vec_plus_large/snapshots/6c303ba987b86b93193de93e34bb2b077a6bedc4/model.pt\n",
      "Warning, miss key in ckpt: modality_encoders.AUDIO.decoder.blocks.0.0.bias, /home3/s20245649/.cache/huggingface/hub/models--emotion2vec--emotion2vec_plus_large/snapshots/6c303ba987b86b93193de93e34bb2b077a6bedc4/model.pt\n",
      "Warning, miss key in ckpt: modality_encoders.AUDIO.decoder.blocks.1.0.weight, /home3/s20245649/.cache/huggingface/hub/models--emotion2vec--emotion2vec_plus_large/snapshots/6c303ba987b86b93193de93e34bb2b077a6bedc4/model.pt\n",
      "Warning, miss key in ckpt: modality_encoders.AUDIO.decoder.blocks.1.0.bias, /home3/s20245649/.cache/huggingface/hub/models--emotion2vec--emotion2vec_plus_large/snapshots/6c303ba987b86b93193de93e34bb2b077a6bedc4/model.pt\n",
      "Warning, miss key in ckpt: modality_encoders.AUDIO.decoder.blocks.2.0.weight, /home3/s20245649/.cache/huggingface/hub/models--emotion2vec--emotion2vec_plus_large/snapshots/6c303ba987b86b93193de93e34bb2b077a6bedc4/model.pt\n",
      "Warning, miss key in ckpt: modality_encoders.AUDIO.decoder.blocks.2.0.bias, /home3/s20245649/.cache/huggingface/hub/models--emotion2vec--emotion2vec_plus_large/snapshots/6c303ba987b86b93193de93e34bb2b077a6bedc4/model.pt\n",
      "Warning, miss key in ckpt: modality_encoders.AUDIO.decoder.blocks.3.0.weight, /home3/s20245649/.cache/huggingface/hub/models--emotion2vec--emotion2vec_plus_large/snapshots/6c303ba987b86b93193de93e34bb2b077a6bedc4/model.pt\n",
      "Warning, miss key in ckpt: modality_encoders.AUDIO.decoder.blocks.3.0.bias, /home3/s20245649/.cache/huggingface/hub/models--emotion2vec--emotion2vec_plus_large/snapshots/6c303ba987b86b93193de93e34bb2b077a6bedc4/model.pt\n",
      "Warning, miss key in ckpt: modality_encoders.AUDIO.decoder.proj.weight, /home3/s20245649/.cache/huggingface/hub/models--emotion2vec--emotion2vec_plus_large/snapshots/6c303ba987b86b93193de93e34bb2b077a6bedc4/model.pt\n",
      "Warning, miss key in ckpt: modality_encoders.AUDIO.decoder.proj.bias, /home3/s20245649/.cache/huggingface/hub/models--emotion2vec--emotion2vec_plus_large/snapshots/6c303ba987b86b93193de93e34bb2b077a6bedc4/model.pt\n",
      "Num rows: 11970\n",
      "  0%|                                                  | 0/2993 [00:00<?, ?it/s]/home3/s20245649/MyGit/CTTS-SpeechCraft/AutomaticPipeline/PitchEnergy.py:14: RuntimeWarning: Mean of empty slice.\n",
      "  mean_pitch = f0_values.mean()\n",
      "/home3/s20245649/.conda/envs/speechcraft/lib/python3.9/site-packages/numpy/core/_methods.py:129: RuntimeWarning: invalid value encountered in scalar divide\n",
      "  ret = ret.dtype.type(ret / rcount)\n",
      "\n",
      "  0%|\u001b[34m                                                     \u001b[0m| 0/4 [00:00<?, ?it/s]\u001b[0m\u001b[A\n",
      "{'load_data': '0.003', 'extract_feat': 0.0, 'forward': '0.041', 'batch_size': '1\u001b[A\n",
      "{'load_data': '0.010', 'extract_feat': 0.0, 'forward': '0.044', 'batch_size': '1\u001b[A\n",
      "{'load_data': '0.010', 'extract_feat': 0.0, 'forward': '0.044', 'batch_size': '1\u001b[A\n",
      "{'load_data': '0.007', 'extract_feat': 0.0, 'forward': '0.031', 'batch_size': '1\u001b[A\n",
      "{'load_data': '0.008', 'extract_feat': 0.0, 'forward': '0.034', 'batch_size': '1\u001b[A\n",
      "rtf_avg: 0.011: 100%|\u001b[34m█████████████████████████████\u001b[0m| 4/4 [00:00<00:00, 24.14it/s]\u001b[0m\u001b[A\n",
      "  0%|                                                  | 0/2993 [00:02<?, ?it/s]\n",
      "Process Process-1:\n",
      "Traceback (most recent call last):\n",
      "  File \"/home3/s20245649/.conda/envs/speechcraft/lib/python3.9/multiprocessing/process.py\", line 315, in _bootstrap\n",
      "    self.run()\n",
      "  File \"/home3/s20245649/.conda/envs/speechcraft/lib/python3.9/multiprocessing/process.py\", line 108, in run\n",
      "    self._target(*self._args, **self._kwargs)\n",
      "  File \"/home3/s20245649/MyGit/CTTS-SpeechCraft/AutomaticPipeline/AutoPipeline.py\", line 250, in inference_on_device\n",
      "    with open(scp_path, 'a', encoding='utf-8') as file:\n",
      "FileNotFoundError: [Errno 2] No such file or directory: './outputs/labels_CTTS_0.scp'\n",
      "\u001b[0m"
     ]
    }
   ],
   "source": [
    "!python -u AutomaticPipeline/AutoPipeline.py"
   ]
  }
 ],
 "metadata": {
  "kernelspec": {
   "display_name": "Python 3 (ipykernel)",
   "language": "python",
   "name": "python3"
  },
  "language_info": {
   "codemirror_mode": {
    "name": "ipython",
    "version": 3
   },
   "file_extension": ".py",
   "mimetype": "text/x-python",
   "name": "python",
   "nbconvert_exporter": "python",
   "pygments_lexer": "ipython3",
   "version": "3.9.18"
  }
 },
 "nbformat": 4,
 "nbformat_minor": 5
}
