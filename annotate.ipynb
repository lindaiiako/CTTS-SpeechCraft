{
 "cells": [
  {
   "cell_type": "code",
   "execution_count": 3,
   "id": "60e6af9d",
   "metadata": {},
   "outputs": [
    {
     "name": "stdout",
     "output_type": "stream",
     "text": [
      "Fri Sep  5 18:51:18 2025       \n",
      "+-----------------------------------------------------------------------------------------+\n",
      "| NVIDIA-SMI 560.35.05              Driver Version: 560.35.05      CUDA Version: 12.6     |\n",
      "|-----------------------------------------+------------------------+----------------------+\n",
      "| GPU  Name                 Persistence-M | Bus-Id          Disp.A | Volatile Uncorr. ECC |\n",
      "| Fan  Temp   Perf          Pwr:Usage/Cap |           Memory-Usage | GPU-Util  Compute M. |\n",
      "|                                         |                        |               MIG M. |\n",
      "|=========================================+========================+======================|\n",
      "|   0  NVIDIA GeForce RTX 3090        On  |   00000000:CE:00.0 Off |                  N/A |\n",
      "| 31%   34C    P8             34W /  350W |       4MiB /  24576MiB |      0%      Default |\n",
      "|                                         |                        |                  N/A |\n",
      "+-----------------------------------------+------------------------+----------------------+\n",
      "                                                                                         \n",
      "+-----------------------------------------------------------------------------------------+\n",
      "| Processes:                                                                              |\n",
      "|  GPU   GI   CI        PID   Type   Process name                              GPU Memory |\n",
      "|        ID   ID                                                               Usage      |\n",
      "|=========================================================================================|\n",
      "|  No running processes found                                                             |\n",
      "+-----------------------------------------------------------------------------------------+\n"
     ]
    }
   ],
   "source": [
    "!nvidia-smi"
   ]
  },
  {
   "cell_type": "code",
   "execution_count": 21,
   "id": "1d01304e",
   "metadata": {},
   "outputs": [
    {
     "name": "stdout",
     "output_type": "stream",
     "text": [
      "WARNING:root:Key Conformer already exists in model_classes, re-register\n",
      "WARNING:root:Key Linear already exists in adaptor_classes, re-register\n",
      "WARNING:root:Key TransformerDecoder already exists in decoder_classes, re-register\n",
      "WARNING:root:Key LightweightConvolutionTransformerDecoder already exists in decoder_classes, re-register\n",
      "WARNING:root:Key LightweightConvolution2DTransformerDecoder already exists in decoder_classes, re-register\n",
      "WARNING:root:Key DynamicConvolutionTransformerDecoder already exists in decoder_classes, re-register\n",
      "WARNING:root:Key DynamicConvolution2DTransformerDecoder already exists in decoder_classes, re-register\n",
      "WARNING:root:Key Conformer already exists in model_classes, re-register\n",
      "WARNING:root:Key Linear already exists in adaptor_classes, re-register\n",
      "WARNING:root:Key TransformerDecoder already exists in decoder_classes, re-register\n",
      "WARNING:root:Key LightweightConvolutionTransformerDecoder already exists in decoder_classes, re-register\n",
      "WARNING:root:Key LightweightConvolution2DTransformerDecoder already exists in decoder_classes, re-register\n",
      "WARNING:root:Key DynamicConvolutionTransformerDecoder already exists in decoder_classes, re-register\n",
      "WARNING:root:Key DynamicConvolution2DTransformerDecoder already exists in decoder_classes, re-register\n",
      "/home3/s20245649/.conda/envs/speechcraft/lib/python3.9/site-packages/transformers/modeling_utils.py:3437: FutureWarning: The `use_auth_token` argument is deprecated and will be removed in v5 of Transformers. Please use `token` instead.\n",
      "  warnings.warn(\n",
      "funasr version: 1.1.16.\n",
      "Check update of funasr, and it would cost few times. You may disable it by set `disable_update=True` in AutoModel\n",
      "New version is available: 1.2.7.\n",
      "Please use the command \"pip install -U funasr\" to upgrade.\n",
      "Fetching 9 files: 100%|███████████████████████| 9/9 [00:00<00:00, 164124.94it/s]\n",
      "Warning, miss key in ckpt: modality_encoders.AUDIO.decoder.blocks.0.0.weight, /home3/s20245649/.cache/huggingface/hub/models--emotion2vec--emotion2vec_plus_large/snapshots/6c303ba987b86b93193de93e34bb2b077a6bedc4/model.pt\n",
      "Warning, miss key in ckpt: modality_encoders.AUDIO.decoder.blocks.0.0.bias, /home3/s20245649/.cache/huggingface/hub/models--emotion2vec--emotion2vec_plus_large/snapshots/6c303ba987b86b93193de93e34bb2b077a6bedc4/model.pt\n",
      "Warning, miss key in ckpt: modality_encoders.AUDIO.decoder.blocks.1.0.weight, /home3/s20245649/.cache/huggingface/hub/models--emotion2vec--emotion2vec_plus_large/snapshots/6c303ba987b86b93193de93e34bb2b077a6bedc4/model.pt\n",
      "Warning, miss key in ckpt: modality_encoders.AUDIO.decoder.blocks.1.0.bias, /home3/s20245649/.cache/huggingface/hub/models--emotion2vec--emotion2vec_plus_large/snapshots/6c303ba987b86b93193de93e34bb2b077a6bedc4/model.pt\n",
      "Warning, miss key in ckpt: modality_encoders.AUDIO.decoder.blocks.2.0.weight, /home3/s20245649/.cache/huggingface/hub/models--emotion2vec--emotion2vec_plus_large/snapshots/6c303ba987b86b93193de93e34bb2b077a6bedc4/model.pt\n",
      "Warning, miss key in ckpt: modality_encoders.AUDIO.decoder.blocks.2.0.bias, /home3/s20245649/.cache/huggingface/hub/models--emotion2vec--emotion2vec_plus_large/snapshots/6c303ba987b86b93193de93e34bb2b077a6bedc4/model.pt\n",
      "Warning, miss key in ckpt: modality_encoders.AUDIO.decoder.blocks.3.0.weight, /home3/s20245649/.cache/huggingface/hub/models--emotion2vec--emotion2vec_plus_large/snapshots/6c303ba987b86b93193de93e34bb2b077a6bedc4/model.pt\n",
      "Warning, miss key in ckpt: modality_encoders.AUDIO.decoder.blocks.3.0.bias, /home3/s20245649/.cache/huggingface/hub/models--emotion2vec--emotion2vec_plus_large/snapshots/6c303ba987b86b93193de93e34bb2b077a6bedc4/model.pt\n",
      "Warning, miss key in ckpt: modality_encoders.AUDIO.decoder.proj.weight, /home3/s20245649/.cache/huggingface/hub/models--emotion2vec--emotion2vec_plus_large/snapshots/6c303ba987b86b93193de93e34bb2b077a6bedc4/model.pt\n",
      "Warning, miss key in ckpt: modality_encoders.AUDIO.decoder.proj.bias, /home3/s20245649/.cache/huggingface/hub/models--emotion2vec--emotion2vec_plus_large/snapshots/6c303ba987b86b93193de93e34bb2b077a6bedc4/model.pt\n",
      "Num rows: 100\n",
      "  0%|                                                    | 0/25 [00:00<?, ?it/s]\n",
      "  0%|\u001b[34m                                                     \u001b[0m| 0/4 [00:00<?, ?it/s]\u001b[0m\u001b[A\n",
      "{'load_data': '0.003', 'extract_feat': 0.0, 'forward': '0.046', 'batch_size': '1\u001b[A\n",
      "{'load_data': '0.011', 'extract_feat': 0.0, 'forward': '0.047', 'batch_size': '1\u001b[A\n",
      "{'load_data': '0.011', 'extract_feat': 0.0, 'forward': '0.047', 'batch_size': '1\u001b[A\n",
      "{'load_data': '0.007', 'extract_feat': 0.0, 'forward': '0.033', 'batch_size': '1\u001b[A\n",
      "{'load_data': '0.009', 'extract_feat': 0.0, 'forward': '0.036', 'batch_size': '1\u001b[A\n",
      "rtf_avg: 0.011: 100%|\u001b[34m█████████████████████████████\u001b[0m| 4/4 [00:00<00:00, 22.47it/s]\u001b[0m\u001b[A\n",
      "  4%|█▊                                          | 1/25 [00:02<00:48,  2.00s/it]\n",
      "  0%|\u001b[34m                                                     \u001b[0m| 0/4 [00:00<?, ?it/s]\u001b[0m\u001b[A\n",
      "{'load_data': '0.004', 'extract_feat': 0.0, 'forward': '0.029', 'batch_size': '1\u001b[A\n",
      "{'load_data': '0.007', 'extract_feat': 0.0, 'forward': '0.033', 'batch_size': '1\u001b[A\n",
      "{'load_data': '0.004', 'extract_feat': 0.0, 'forward': '0.012', 'batch_size': '1\u001b[A\n",
      "{'load_data': '0.004', 'extract_feat': 0.0, 'forward': '0.012', 'batch_size': '1\u001b[A\n",
      "{'load_data': '0.008', 'extract_feat': 0.0, 'forward': '0.033', 'batch_size': '1\u001b[A\n",
      "rtf_avg: 0.012: 100%|\u001b[34m█████████████████████████████\u001b[0m| 4/4 [00:00<00:00, 34.39it/s]\u001b[0m\u001b[A\n",
      "  8%|███▌                                        | 2/25 [00:02<00:24,  1.07s/it]\n",
      "  0%|\u001b[34m                                                     \u001b[0m| 0/4 [00:00<?, ?it/s]\u001b[0m\u001b[A\n",
      " 25%|\u001b[34m███████████▎                                 \u001b[0m| 1/4 [00:00<00:00,  8.53it/s]\u001b[0m\u001b[A\n",
      "{'load_data': '0.009', 'extract_feat': 0.0, 'forward': '0.117', 'batch_size': '1\u001b[A\n",
      "{'load_data': '0.009', 'extract_feat': 0.0, 'forward': '0.039', 'batch_size': '1\u001b[A\n",
      "{'load_data': '0.012', 'extract_feat': 0.0, 'forward': '0.039', 'batch_size': '1\u001b[A\n",
      "{'load_data': '0.012', 'extract_feat': 0.0, 'forward': '0.039', 'batch_size': '1\u001b[A\n",
      "{'load_data': '0.004', 'extract_feat': 0.0, 'forward': '0.029', 'batch_size': '1\u001b[A\n",
      "rtf_avg: 0.015: 100%|\u001b[34m█████████████████████████████\u001b[0m| 4/4 [00:00<00:00, 15.82it/s]\u001b[0m\u001b[A\n",
      " 12%|█████▎                                      | 3/25 [00:03<00:20,  1.08it/s]\n",
      "  0%|\u001b[34m                                                     \u001b[0m| 0/4 [00:00<?, ?it/s]\u001b[0m\u001b[A\n",
      "{'load_data': '0.008', 'extract_feat': 0.0, 'forward': '0.035', 'batch_size': '1\u001b[A\n",
      "{'load_data': '0.003', 'extract_feat': 0.0, 'forward': '0.028', 'batch_size': '1\u001b[A\n",
      "{'load_data': '0.003', 'extract_feat': 0.0, 'forward': '0.029', 'batch_size': '1\u001b[A\n",
      "{'load_data': '0.003', 'extract_feat': 0.0, 'forward': '0.029', 'batch_size': '1\u001b[A\n",
      "{'load_data': '0.004', 'extract_feat': 0.0, 'forward': '0.030', 'batch_size': '1\u001b[A\n",
      "rtf_avg: 0.017: 100%|\u001b[34m█████████████████████████████\u001b[0m| 4/4 [00:00<00:00, 30.66it/s]\u001b[0m\u001b[A\n",
      " 16%|███████                                     | 4/25 [00:03<00:15,  1.36it/s]\n",
      "  0%|\u001b[34m                                                     \u001b[0m| 0/4 [00:00<?, ?it/s]\u001b[0m\u001b[A\n",
      "{'load_data': '0.004', 'extract_feat': 0.0, 'forward': '0.031', 'batch_size': '1\u001b[A\n",
      "{'load_data': '0.003', 'extract_feat': 0.0, 'forward': '0.028', 'batch_size': '1\u001b[A\n",
      "{'load_data': '0.004', 'extract_feat': 0.0, 'forward': '0.030', 'batch_size': '1\u001b[A\n",
      "{'load_data': '0.004', 'extract_feat': 0.0, 'forward': '0.030', 'batch_size': '1\u001b[A\n",
      "{'load_data': '0.005', 'extract_feat': 0.0, 'forward': '0.031', 'batch_size': '1\u001b[A\n",
      "rtf_avg: 0.019: 100%|\u001b[34m█████████████████████████████\u001b[0m| 4/4 [00:00<00:00, 31.81it/s]\u001b[0m\u001b[A\n",
      " 20%|████████▊                                   | 5/25 [00:04<00:12,  1.64it/s]\n",
      "  0%|\u001b[34m                                                     \u001b[0m| 0/4 [00:00<?, ?it/s]\u001b[0m\u001b[A\n",
      "{'load_data': '0.009', 'extract_feat': 0.0, 'forward': '0.040', 'batch_size': '1\u001b[A\n",
      "{'load_data': '0.007', 'extract_feat': 0.0, 'forward': '0.032', 'batch_size': '1\u001b[A\n",
      "{'load_data': '0.007', 'extract_feat': 0.0, 'forward': '0.032', 'batch_size': '1\u001b[A\n",
      "{'load_data': '0.004', 'extract_feat': 0.0, 'forward': '0.028', 'batch_size': '1\u001b[A\n",
      "{'load_data': '0.009', 'extract_feat': 0.0, 'forward': '0.047', 'batch_size': '1\u001b[A\n",
      "rtf_avg: 0.008: 100%|\u001b[34m█████████████████████████████\u001b[0m| 4/4 [00:00<00:00, 24.35it/s]\u001b[0m\u001b[A\n",
      " 24%|██████████▌                                 | 6/25 [00:04<00:13,  1.42it/s]\n",
      "  0%|\u001b[34m                                                     \u001b[0m| 0/4 [00:00<?, ?it/s]\u001b[0m\u001b[A\n",
      "{'load_data': '0.007', 'extract_feat': 0.0, 'forward': '0.048', 'batch_size': '1\u001b[A\n",
      "{'load_data': '0.009', 'extract_feat': 0.0, 'forward': '0.040', 'batch_size': '1\u001b[A\n",
      "{'load_data': '0.009', 'extract_feat': 0.0, 'forward': '0.040', 'batch_size': '1\u001b[A\n",
      "{'load_data': '0.008', 'extract_feat': 0.0, 'forward': '0.035', 'batch_size': '1\u001b[A\n",
      "{'load_data': '0.007', 'extract_feat': 0.0, 'forward': '0.031', 'batch_size': '1\u001b[A\n",
      "rtf_avg: 0.008: 100%|\u001b[34m█████████████████████████████\u001b[0m| 4/4 [00:00<00:00, 23.20it/s]\u001b[0m\u001b[A\n",
      " 28%|████████████▎                               | 7/25 [00:05<00:13,  1.33it/s]\n",
      "  0%|\u001b[34m                                                     \u001b[0m| 0/4 [00:00<?, ?it/s]\u001b[0m\u001b[A\n",
      "{'load_data': '0.008', 'extract_feat': 0.0, 'forward': '0.039', 'batch_size': '1\u001b[A\n",
      "{'load_data': '0.004', 'extract_feat': 0.0, 'forward': '0.030', 'batch_size': '1\u001b[A\n",
      "{'load_data': '0.004', 'extract_feat': 0.0, 'forward': '0.029', 'batch_size': '1\u001b[A\n",
      "{'load_data': '0.004', 'extract_feat': 0.0, 'forward': '0.029', 'batch_size': '1\u001b[A\n",
      "{'load_data': '0.008', 'extract_feat': 0.0, 'forward': '0.038', 'batch_size': '1\u001b[A\n",
      "rtf_avg: 0.009: 100%|\u001b[34m█████████████████████████████\u001b[0m| 4/4 [00:00<00:00, 26.76it/s]\u001b[0m\u001b[A\n",
      " 32%|██████████████                              | 8/25 [00:06<00:12,  1.32it/s]\n",
      "  0%|\u001b[34m                                                     \u001b[0m| 0/4 [00:00<?, ?it/s]\u001b[0m\u001b[A\n",
      "{'load_data': '0.009', 'extract_feat': 0.0, 'forward': '0.037', 'batch_size': '1\u001b[A\n",
      "{'load_data': '0.006', 'extract_feat': 0.0, 'forward': '0.032', 'batch_size': '1\u001b[A\n",
      "{'load_data': '0.004', 'extract_feat': 0.0, 'forward': '0.029', 'batch_size': '1\u001b[A\n",
      "{'load_data': '0.004', 'extract_feat': 0.0, 'forward': '0.029', 'batch_size': '1\u001b[A\n",
      "{'load_data': '0.009', 'extract_feat': 0.0, 'forward': '0.035', 'batch_size': '1\u001b[A\n",
      "rtf_avg: 0.011: 100%|\u001b[34m█████████████████████████████\u001b[0m| 4/4 [00:00<00:00, 27.47it/s]\u001b[0m\u001b[A\n",
      " 36%|███████████████▊                            | 9/25 [00:07<00:11,  1.43it/s]\n",
      "  0%|\u001b[34m                                                     \u001b[0m| 0/4 [00:00<?, ?it/s]\u001b[0m\u001b[A\n",
      "{'load_data': '0.007', 'extract_feat': 0.0, 'forward': '0.033', 'batch_size': '1\u001b[A\n",
      "{'load_data': '0.004', 'extract_feat': 0.0, 'forward': '0.029', 'batch_size': '1\u001b[A\n",
      "{'load_data': '0.007', 'extract_feat': 0.0, 'forward': '0.035', 'batch_size': '1\u001b[A\n",
      "{'load_data': '0.007', 'extract_feat': 0.0, 'forward': '0.035', 'batch_size': '1\u001b[A\n",
      "{'load_data': '0.006', 'extract_feat': 0.0, 'forward': '0.032', 'batch_size': '1\u001b[A\n",
      "rtf_avg: 0.013: 100%|\u001b[34m█████████████████████████████\u001b[0m| 4/4 [00:00<00:00, 27.32it/s]\u001b[0m\u001b[A\n",
      " 40%|█████████████████▏                         | 10/25 [00:07<00:09,  1.56it/s]\n",
      "  0%|\u001b[34m                                                     \u001b[0m| 0/4 [00:00<?, ?it/s]\u001b[0m\u001b[A\n",
      "{'load_data': '0.004', 'extract_feat': 0.0, 'forward': '0.044', 'batch_size': '1\u001b[A\n",
      "{'load_data': '0.006', 'extract_feat': 0.0, 'forward': '0.033', 'batch_size': '1\u001b[A\n",
      "{'load_data': '0.005', 'extract_feat': 0.0, 'forward': '0.021', 'batch_size': '1\u001b[A\n",
      "{'load_data': '0.005', 'extract_feat': 0.0, 'forward': '0.021', 'batch_size': '1\u001b[A\n",
      "{'load_data': '0.004', 'extract_feat': 0.0, 'forward': '0.030', 'batch_size': '1\u001b[A\n",
      "rtf_avg: 0.017: 100%|\u001b[34m█████████████████████████████\u001b[0m| 4/4 [00:00<00:00, 29.37it/s]\u001b[0m\u001b[A\n",
      " 44%|██████████████████▉                        | 11/25 [00:08<00:08,  1.73it/s]\n",
      "  0%|\u001b[34m                                                     \u001b[0m| 0/4 [00:00<?, ?it/s]\u001b[0m\u001b[A\n",
      "{'load_data': '0.009', 'extract_feat': 0.0, 'forward': '0.037', 'batch_size': '1\u001b[A\n",
      "{'load_data': '0.007', 'extract_feat': 0.0, 'forward': '0.015', 'batch_size': '1\u001b[A\n",
      "{'load_data': '0.007', 'extract_feat': 0.0, 'forward': '0.015', 'batch_size': '1\u001b[A\n",
      "{'load_data': '0.010', 'extract_feat': 0.0, 'forward': '0.052', 'batch_size': '1\u001b[A\n",
      "{'load_data': '0.009', 'extract_feat': 0.0, 'forward': '0.037', 'batch_size': '1\u001b[A\n",
      "rtf_avg: 0.007: 100%|\u001b[34m█████████████████████████████\u001b[0m| 4/4 [00:00<00:00, 25.00it/s]\u001b[0m\u001b[A\n",
      " 48%|████████████████████▋                      | 12/25 [00:08<00:08,  1.51it/s]\n",
      "  0%|\u001b[34m                                                     \u001b[0m| 0/4 [00:00<?, ?it/s]\u001b[0m\u001b[A\n",
      "{'load_data': '0.004', 'extract_feat': 0.0, 'forward': '0.030', 'batch_size': '1\u001b[A\n",
      "{'load_data': '0.008', 'extract_feat': 0.0, 'forward': '0.032', 'batch_size': '1\u001b[A\n",
      "{'load_data': '0.008', 'extract_feat': 0.0, 'forward': '0.034', 'batch_size': '1\u001b[A\n",
      "{'load_data': '0.008', 'extract_feat': 0.0, 'forward': '0.034', 'batch_size': '1\u001b[A\n",
      "{'load_data': '0.009', 'extract_feat': 0.0, 'forward': '0.037', 'batch_size': '1\u001b[A\n",
      "rtf_avg: 0.008: 100%|\u001b[34m█████████████████████████████\u001b[0m| 4/4 [00:00<00:00, 26.43it/s]\u001b[0m\u001b[A\n",
      " 52%|██████████████████████▎                    | 13/25 [00:09<00:08,  1.46it/s]\n",
      "  0%|\u001b[34m                                                     \u001b[0m| 0/4 [00:00<?, ?it/s]\u001b[0m\u001b[A\n",
      "{'load_data': '0.008', 'extract_feat': 0.0, 'forward': '0.051', 'batch_size': '1\u001b[A\n",
      "{'load_data': '0.007', 'extract_feat': 0.0, 'forward': '0.032', 'batch_size': '1\u001b[A\n",
      "{'load_data': '0.007', 'extract_feat': 0.0, 'forward': '0.032', 'batch_size': '1\u001b[A\n",
      "{'load_data': '0.007', 'extract_feat': 0.0, 'forward': '0.031', 'batch_size': '1\u001b[A\n",
      "{'load_data': '0.009', 'extract_feat': 0.0, 'forward': '0.039', 'batch_size': '1\u001b[A\n",
      "rtf_avg: 0.009: 100%|\u001b[34m█████████████████████████████\u001b[0m| 4/4 [00:00<00:00, 18.45it/s]\u001b[0m\u001b[A\n",
      " 56%|████████████████████████                   | 14/25 [00:10<00:07,  1.40it/s]\n",
      "  0%|\u001b[34m                                                     \u001b[0m| 0/4 [00:00<?, ?it/s]\u001b[0m\u001b[A\n",
      "{'load_data': '0.005', 'extract_feat': 0.0, 'forward': '0.033', 'batch_size': '1\u001b[A\n",
      "{'load_data': '0.008', 'extract_feat': 0.0, 'forward': '0.036', 'batch_size': '1\u001b[A\n",
      "{'load_data': '0.008', 'extract_feat': 0.0, 'forward': '0.036', 'batch_size': '1\u001b[A\n",
      "{'load_data': '0.009', 'extract_feat': 0.0, 'forward': '0.042', 'batch_size': '1\u001b[A\n",
      "{'load_data': '0.007', 'extract_feat': 0.0, 'forward': '0.027', 'batch_size': '1\u001b[A\n",
      "rtf_avg: 0.009: 100%|\u001b[34m█████████████████████████████\u001b[0m| 4/4 [00:00<00:00, 25.64it/s]\u001b[0m\u001b[A\n",
      " 60%|█████████████████████████▊                 | 15/25 [00:11<00:07,  1.38it/s]\n",
      "  0%|\u001b[34m                                                     \u001b[0m| 0/4 [00:00<?, ?it/s]\u001b[0m\u001b[A\n",
      "{'load_data': '0.009', 'extract_feat': 0.0, 'forward': '0.067', 'batch_size': '1\u001b[A\n",
      "{'load_data': '0.009', 'extract_feat': 0.0, 'forward': '0.067', 'batch_size': '1\u001b[A\n",
      "{'load_data': '0.008', 'extract_feat': 0.0, 'forward': '0.034', 'batch_size': '1\u001b[A\n",
      "{'load_data': '0.007', 'extract_feat': 0.0, 'forward': '0.032', 'batch_size': '1\u001b[A\n",
      "{'load_data': '0.007', 'extract_feat': 0.0, 'forward': '0.031', 'batch_size': '1\u001b[A\n",
      "rtf_avg: 0.007: 100%|\u001b[34m█████████████████████████████\u001b[0m| 4/4 [00:00<00:00, 18.76it/s]\u001b[0m\u001b[A\n",
      " 64%|███████████████████████████▌               | 16/25 [00:12<00:07,  1.17it/s]\n",
      "  0%|\u001b[34m                                                     \u001b[0m| 0/4 [00:00<?, ?it/s]\u001b[0m\u001b[A\n",
      "{'load_data': '0.009', 'extract_feat': 0.0, 'forward': '0.034', 'batch_size': '1\u001b[A\n",
      "{'load_data': '0.009', 'extract_feat': 0.0, 'forward': '0.035', 'batch_size': '1\u001b[A\n",
      "{'load_data': '0.009', 'extract_feat': 0.0, 'forward': '0.035', 'batch_size': '1\u001b[A\n",
      "{'load_data': '0.008', 'extract_feat': 0.0, 'forward': '0.035', 'batch_size': '1\u001b[A\n",
      "{'load_data': '0.009', 'extract_feat': 0.0, 'forward': '0.035', 'batch_size': '1\u001b[A\n",
      "rtf_avg: 0.007: 100%|\u001b[34m█████████████████████████████\u001b[0m| 4/4 [00:00<00:00, 25.62it/s]\u001b[0m\u001b[A\n",
      " 68%|█████████████████████████████▏             | 17/25 [00:13<00:06,  1.18it/s]\n",
      "  0%|\u001b[34m                                                     \u001b[0m| 0/4 [00:00<?, ?it/s]\u001b[0m\u001b[A\n",
      "{'load_data': '0.006', 'extract_feat': 0.0, 'forward': '0.032', 'batch_size': '1\u001b[A\n",
      "{'load_data': '0.004', 'extract_feat': 0.0, 'forward': '0.023', 'batch_size': '1\u001b[A\n",
      "{'load_data': '0.008', 'extract_feat': 0.0, 'forward': '0.038', 'batch_size': '1\u001b[A\n",
      "{'load_data': '0.008', 'extract_feat': 0.0, 'forward': '0.038', 'batch_size': '1\u001b[A\n",
      "{'load_data': '0.008', 'extract_feat': 0.0, 'forward': '0.034', 'batch_size': '1\u001b[A\n",
      "rtf_avg: 0.008: 100%|\u001b[34m█████████████████████████████\u001b[0m| 4/4 [00:00<00:00, 27.53it/s]\u001b[0m\u001b[A\n",
      " 72%|██████████████████████████████▉            | 18/25 [00:13<00:05,  1.22it/s]\n",
      "  0%|\u001b[34m                                                     \u001b[0m| 0/4 [00:00<?, ?it/s]\u001b[0m\u001b[A\n",
      "{'load_data': '0.007', 'extract_feat': 0.0, 'forward': '0.028', 'batch_size': '1\u001b[A\n",
      "{'load_data': '0.008', 'extract_feat': 0.0, 'forward': '0.037', 'batch_size': '1\u001b[A\n",
      "{'load_data': '0.007', 'extract_feat': 0.0, 'forward': '0.029', 'batch_size': '1\u001b[A\n",
      "{'load_data': '0.007', 'extract_feat': 0.0, 'forward': '0.029', 'batch_size': '1\u001b[A\n",
      "{'load_data': '0.009', 'extract_feat': 0.0, 'forward': '0.040', 'batch_size': '1\u001b[A\n",
      "rtf_avg: 0.006: 100%|\u001b[34m█████████████████████████████\u001b[0m| 4/4 [00:00<00:00, 22.91it/s]\u001b[0m\u001b[A\n",
      " 76%|████████████████████████████████▋          | 19/25 [00:14<00:05,  1.19it/s]\n",
      "  0%|\u001b[34m                                                     \u001b[0m| 0/4 [00:00<?, ?it/s]\u001b[0m\u001b[A\n",
      "{'load_data': '0.009', 'extract_feat': 0.0, 'forward': '0.031', 'batch_size': '1\u001b[A\n",
      "{'load_data': '0.007', 'extract_feat': 0.0, 'forward': '0.029', 'batch_size': '1\u001b[A\n",
      "{'load_data': '0.008', 'extract_feat': 0.0, 'forward': '0.034', 'batch_size': '1\u001b[A\n",
      "{'load_data': '0.008', 'extract_feat': 0.0, 'forward': '0.034', 'batch_size': '1\u001b[A\n",
      "{'load_data': '0.004', 'extract_feat': 0.0, 'forward': '0.012', 'batch_size': '1\u001b[A\n",
      "rtf_avg: 0.008: 100%|\u001b[34m█████████████████████████████\u001b[0m| 4/4 [00:00<00:00, 32.78it/s]\u001b[0m\u001b[A\n",
      " 80%|██████████████████████████████████▍        | 20/25 [00:15<00:03,  1.32it/s]\n",
      "  0%|\u001b[34m                                                     \u001b[0m| 0/4 [00:00<?, ?it/s]\u001b[0m\u001b[A\n",
      "{'load_data': '0.007', 'extract_feat': 0.0, 'forward': '0.017', 'batch_size': '1\u001b[A\n",
      "{'load_data': '0.006', 'extract_feat': 0.0, 'forward': '0.031', 'batch_size': '1\u001b[A\n",
      "{'load_data': '0.004', 'extract_feat': 0.0, 'forward': '0.028', 'batch_size': '1\u001b[A\n",
      "{'load_data': '0.004', 'extract_feat': 0.0, 'forward': '0.028', 'batch_size': '1\u001b[A\n",
      "{'load_data': '0.006', 'extract_feat': 0.0, 'forward': '0.026', 'batch_size': '1\u001b[A\n",
      "rtf_avg: 0.011: 100%|\u001b[34m█████████████████████████████\u001b[0m| 4/4 [00:00<00:00, 35.60it/s]\u001b[0m\u001b[A\n",
      " 84%|████████████████████████████████████       | 21/25 [00:15<00:02,  1.52it/s]\n",
      "  0%|\u001b[34m                                                     \u001b[0m| 0/4 [00:00<?, ?it/s]\u001b[0m\u001b[A\n",
      "{'load_data': '0.004', 'extract_feat': 0.0, 'forward': '0.029', 'batch_size': '1\u001b[A\n",
      "{'load_data': '0.004', 'extract_feat': 0.0, 'forward': '0.024', 'batch_size': '1\u001b[A\n",
      "{'load_data': '0.007', 'extract_feat': 0.0, 'forward': '0.033', 'batch_size': '1\u001b[A\n",
      "{'load_data': '0.007', 'extract_feat': 0.0, 'forward': '0.033', 'batch_size': '1\u001b[A\n",
      "{'load_data': '0.003', 'extract_feat': 0.0, 'forward': '0.028', 'batch_size': '1\u001b[A\n",
      "rtf_avg: 0.015: 100%|\u001b[34m█████████████████████████████\u001b[0m| 4/4 [00:00<00:00, 31.52it/s]\u001b[0m\u001b[A\n",
      " 88%|█████████████████████████████████████▊     | 22/25 [00:16<00:01,  1.69it/s]\n",
      "  0%|\u001b[34m                                                     \u001b[0m| 0/4 [00:00<?, ?it/s]\u001b[0m\u001b[A\n",
      "{'load_data': '0.007', 'extract_feat': 0.0, 'forward': '0.030', 'batch_size': '1\u001b[A\n",
      "{'load_data': '0.007', 'extract_feat': 0.0, 'forward': '0.033', 'batch_size': '1\u001b[A\n",
      "{'load_data': '0.007', 'extract_feat': 0.0, 'forward': '0.033', 'batch_size': '1\u001b[A\n",
      "{'load_data': '0.008', 'extract_feat': 0.0, 'forward': '0.038', 'batch_size': '1\u001b[A\n",
      "{'load_data': '0.006', 'extract_feat': 0.0, 'forward': '0.031', 'batch_size': '1\u001b[A\n",
      "rtf_avg: 0.009: 100%|\u001b[34m█████████████████████████████\u001b[0m| 4/4 [00:00<00:00, 26.80it/s]\u001b[0m\u001b[A\n",
      " 92%|███████████████████████████████████████▌   | 23/25 [00:16<00:01,  1.58it/s]\n",
      "  0%|\u001b[34m                                                     \u001b[0m| 0/4 [00:00<?, ?it/s]\u001b[0m\u001b[A\n",
      "{'load_data': '0.008', 'extract_feat': 0.0, 'forward': '0.029', 'batch_size': '1\u001b[A\n",
      "{'load_data': '0.008', 'extract_feat': 0.0, 'forward': '0.037', 'batch_size': '1\u001b[A\n",
      "{'load_data': '0.008', 'extract_feat': 0.0, 'forward': '0.037', 'batch_size': '1\u001b[A\n",
      "{'load_data': '0.009', 'extract_feat': 0.0, 'forward': '0.037', 'batch_size': '1\u001b[A\n",
      "{'load_data': '0.008', 'extract_feat': 0.0, 'forward': '0.033', 'batch_size': '1\u001b[A\n",
      "rtf_avg: 0.006: 100%|\u001b[34m█████████████████████████████\u001b[0m| 4/4 [00:00<00:00, 25.75it/s]\u001b[0m\u001b[A\n",
      " 96%|█████████████████████████████████████████▎ | 24/25 [00:17<00:00,  1.39it/s]\n",
      "  0%|\u001b[34m                                                     \u001b[0m| 0/4 [00:00<?, ?it/s]\u001b[0m\u001b[A\n",
      "{'load_data': '0.004', 'extract_feat': 0.0, 'forward': '0.013', 'batch_size': '1\u001b[A\n",
      "{'load_data': '0.007', 'extract_feat': 0.0, 'forward': '0.029', 'batch_size': '1\u001b[A\n",
      "{'load_data': '0.010', 'extract_feat': 0.0, 'forward': '0.036', 'batch_size': '1\u001b[A\n",
      "{'load_data': '0.010', 'extract_feat': 0.0, 'forward': '0.036', 'batch_size': '1\u001b[A\n",
      "{'load_data': '0.008', 'extract_feat': 0.0, 'forward': '0.035', 'batch_size': '1\u001b[A\n",
      "rtf_avg: 0.008: 100%|\u001b[34m█████████████████████████████\u001b[0m| 4/4 [00:00<00:00, 31.05it/s]\u001b[0m\u001b[A\n",
      "100%|███████████████████████████████████████████| 25/25 [00:18<00:00,  1.35it/s]\n",
      "\u001b[0m"
     ]
    }
   ],
   "source": [
    "!python -u AutomaticPipeline/AutoPipeline.py"
   ]
  },
  {
   "cell_type": "code",
   "execution_count": 2,
   "id": "27f27726",
   "metadata": {},
   "outputs": [],
   "source": [
    "import librosa\n",
    "\n",
    "\n",
    "wav, sr = librosa.load(\"/data1/movie/CMD/processed_wavs/audio_segments_bef_persona/12-monkeys_tt0114746_TpGPSRGrL3s_8.461_9.483.wav\", sr=44100, mono=True)"
   ]
  },
  {
   "cell_type": "code",
   "execution_count": null,
   "id": "ec4fe265",
   "metadata": {},
   "outputs": [],
   "source": [
    "from IPython.display import Audio\n",
    "\n",
    "Audio(wav, rate=44100)"
   ]
  },
  {
   "cell_type": "code",
   "execution_count": null,
   "id": "53c3770e",
   "metadata": {},
   "outputs": [],
   "source": [
    "fmin = 65\n",
    "fmax = 1000\n",
    "hop_length = 513\n",
    "frame_length = 2048\n",
    "\n",
    "frame_period = hop_length / 44100 * 1000  # ms"
   ]
  },
  {
   "cell_type": "code",
   "execution_count": 6,
   "id": "ab0c2d43",
   "metadata": {},
   "outputs": [
    {
     "data": {
      "text/plain": [
       "11.63265306122449"
      ]
     },
     "execution_count": 6,
     "metadata": {},
     "output_type": "execute_result"
    }
   ],
   "source": [
    "frame_period"
   ]
  },
  {
   "cell_type": "code",
   "execution_count": 4,
   "id": "0ce3a80b",
   "metadata": {},
   "outputs": [],
   "source": [
    "import pyworld as pw\n",
    "import numpy as np\n",
    "f0, sp, ap = pw.wav2world(wav.astype(np.float64), 44100)"
   ]
  },
  {
   "cell_type": "code",
   "execution_count": 19,
   "id": "9c99ee93",
   "metadata": {},
   "outputs": [],
   "source": [
    "_f0, t = pw.dio(wav.astype(np.float64), 44100, f0_ceil=350, frame_period=frame_period )    # raw pitch extractor\n",
    "f0 = pw.stonemask(wav.astype(np.float64), _f0, t, 44100)  # pitch refinement"
   ]
  },
  {
   "cell_type": "code",
   "execution_count": 9,
   "id": "850f6368",
   "metadata": {},
   "outputs": [
    {
     "data": {
      "text/plain": [
       "88"
      ]
     },
     "execution_count": 9,
     "metadata": {},
     "output_type": "execute_result"
    }
   ],
   "source": [
    "len(f0)"
   ]
  },
  {
   "cell_type": "code",
   "execution_count": 20,
   "id": "55b96ec9",
   "metadata": {},
   "outputs": [
    {
     "data": {
      "text/plain": [
       "159.39026327666332"
      ]
     },
     "execution_count": 20,
     "metadata": {},
     "output_type": "execute_result"
    }
   ],
   "source": [
    "f0[f0 > 0].mean()"
   ]
  },
  {
   "cell_type": "code",
   "execution_count": 15,
   "id": "932a38bc",
   "metadata": {},
   "outputs": [
    {
     "data": {
      "text/plain": [
       "array([132.08146223, 176.51567897, 114.42732679, 181.76921335,\n",
       "       195.5778217 , 250.17362639, 240.33609907, 121.80434874,\n",
       "       118.89137413, 117.04921933, 113.28264192, 121.36531407,\n",
       "       123.57671892, 131.14981195, 132.9253562 , 134.21725066,\n",
       "       135.0629676 , 134.6847162 , 129.71980007, 132.27225311,\n",
       "       132.66271958, 106.20954899, 171.69052035, 180.07484625,\n",
       "       192.19839938, 134.56799433, 140.67983558, 144.79935745,\n",
       "       142.18805363, 183.99502713, 180.29979806, 178.62327591,\n",
       "       170.52243108, 157.31550192, 190.7913161 , 165.94723252,\n",
       "       190.02446374, 184.6612285 , 177.88593588, 193.92998383,\n",
       "       195.10144419, 201.26656056, 201.46284453])"
      ]
     },
     "execution_count": 15,
     "metadata": {},
     "output_type": "execute_result"
    }
   ],
   "source": [
    "f0[f0 > 0]"
   ]
  },
  {
   "cell_type": "code",
   "execution_count": 25,
   "id": "740a0cc2",
   "metadata": {},
   "outputs": [
    {
     "name": "stderr",
     "output_type": "stream",
     "text": [
      "WARNING:root:Key Conformer already exists in model_classes, re-register\n",
      "WARNING:root:Key Linear already exists in adaptor_classes, re-register\n",
      "WARNING:root:Key TransformerDecoder already exists in decoder_classes, re-register\n",
      "WARNING:root:Key LightweightConvolutionTransformerDecoder already exists in decoder_classes, re-register\n",
      "WARNING:root:Key LightweightConvolution2DTransformerDecoder already exists in decoder_classes, re-register\n",
      "WARNING:root:Key DynamicConvolutionTransformerDecoder already exists in decoder_classes, re-register\n",
      "WARNING:root:Key DynamicConvolution2DTransformerDecoder already exists in decoder_classes, re-register\n"
     ]
    },
    {
     "name": "stdout",
     "output_type": "stream",
     "text": [
      "funasr version: 1.1.16.\n",
      "Check update of funasr, and it would cost few times. You may disable it by set `disable_update=True` in AutoModel\n",
      "New version is available: 1.2.7.\n",
      "Please use the command \"pip install -U funasr\" to upgrade.\n"
     ]
    },
    {
     "data": {
      "application/vnd.jupyter.widget-view+json": {
       "model_id": "c48be3a194194055ad9df766873c56b1",
       "version_major": 2,
       "version_minor": 0
      },
      "text/plain": [
       "Fetching 9 files:   0%|          | 0/9 [00:00<?, ?it/s]"
      ]
     },
     "metadata": {},
     "output_type": "display_data"
    },
    {
     "name": "stdout",
     "output_type": "stream",
     "text": [
      "Warning, miss key in ckpt: modality_encoders.AUDIO.decoder.blocks.0.0.weight, /home3/s20245649/.cache/huggingface/hub/models--emotion2vec--emotion2vec_plus_large/snapshots/6c303ba987b86b93193de93e34bb2b077a6bedc4/model.pt\n",
      "Warning, miss key in ckpt: modality_encoders.AUDIO.decoder.blocks.0.0.bias, /home3/s20245649/.cache/huggingface/hub/models--emotion2vec--emotion2vec_plus_large/snapshots/6c303ba987b86b93193de93e34bb2b077a6bedc4/model.pt\n",
      "Warning, miss key in ckpt: modality_encoders.AUDIO.decoder.blocks.1.0.weight, /home3/s20245649/.cache/huggingface/hub/models--emotion2vec--emotion2vec_plus_large/snapshots/6c303ba987b86b93193de93e34bb2b077a6bedc4/model.pt\n",
      "Warning, miss key in ckpt: modality_encoders.AUDIO.decoder.blocks.1.0.bias, /home3/s20245649/.cache/huggingface/hub/models--emotion2vec--emotion2vec_plus_large/snapshots/6c303ba987b86b93193de93e34bb2b077a6bedc4/model.pt\n",
      "Warning, miss key in ckpt: modality_encoders.AUDIO.decoder.blocks.2.0.weight, /home3/s20245649/.cache/huggingface/hub/models--emotion2vec--emotion2vec_plus_large/snapshots/6c303ba987b86b93193de93e34bb2b077a6bedc4/model.pt\n",
      "Warning, miss key in ckpt: modality_encoders.AUDIO.decoder.blocks.2.0.bias, /home3/s20245649/.cache/huggingface/hub/models--emotion2vec--emotion2vec_plus_large/snapshots/6c303ba987b86b93193de93e34bb2b077a6bedc4/model.pt\n",
      "Warning, miss key in ckpt: modality_encoders.AUDIO.decoder.blocks.3.0.weight, /home3/s20245649/.cache/huggingface/hub/models--emotion2vec--emotion2vec_plus_large/snapshots/6c303ba987b86b93193de93e34bb2b077a6bedc4/model.pt\n",
      "Warning, miss key in ckpt: modality_encoders.AUDIO.decoder.blocks.3.0.bias, /home3/s20245649/.cache/huggingface/hub/models--emotion2vec--emotion2vec_plus_large/snapshots/6c303ba987b86b93193de93e34bb2b077a6bedc4/model.pt\n",
      "Warning, miss key in ckpt: modality_encoders.AUDIO.decoder.proj.weight, /home3/s20245649/.cache/huggingface/hub/models--emotion2vec--emotion2vec_plus_large/snapshots/6c303ba987b86b93193de93e34bb2b077a6bedc4/model.pt\n",
      "Warning, miss key in ckpt: modality_encoders.AUDIO.decoder.proj.bias, /home3/s20245649/.cache/huggingface/hub/models--emotion2vec--emotion2vec_plus_large/snapshots/6c303ba987b86b93193de93e34bb2b077a6bedc4/model.pt\n"
     ]
    }
   ],
   "source": [
    "from funasr import AutoModel\n",
    "emotion_model = AutoModel(model=\"iic/emotion2vec_plus_large\", hub=\"hf\")"
   ]
  },
  {
   "cell_type": "code",
   "execution_count": 35,
   "id": "83c2dd12",
   "metadata": {},
   "outputs": [
    {
     "name": "stderr",
     "output_type": "stream",
     "text": [
      "rtf_avg: 0.017: 100%|\u001b[34m███████████████████████████████████████████████████████████████████████████████████████████████████████████████████████████████████████████████████\u001b[0m| 1/1 [00:00<00:00, 15.95it/s]\u001b[0m\n"
     ]
    },
    {
     "data": {
      "text/plain": [
       "[{'key': 'bull-durham_tt0094812_mn5crhTusSA_39.113_42.34',\n",
       "  'labels': ['生气/angry',\n",
       "   '厌恶/disgusted',\n",
       "   '恐惧/fearful',\n",
       "   '开心/happy',\n",
       "   '中立/neutral',\n",
       "   '其他/other',\n",
       "   '难过/sad',\n",
       "   '吃惊/surprised',\n",
       "   '<unk>'],\n",
       "  'scores': [2.8706926968879998e-06,\n",
       "   7.668742000532802e-06,\n",
       "   8.446370884485077e-06,\n",
       "   7.164012640714645e-05,\n",
       "   6.365306035149843e-05,\n",
       "   1.0373929363108325e-12,\n",
       "   0.0003564004728104919,\n",
       "   0.999489426612854,\n",
       "   1.3907739404572794e-09]}]"
      ]
     },
     "execution_count": 35,
     "metadata": {},
     "output_type": "execute_result"
    }
   ],
   "source": [
    " emotion_model.generate(\"/data1/movie/CMD/processed_wavs/audio_segments_bef_persona/bull-durham_tt0094812_mn5crhTusSA_39.113_42.34.wav\", granularity=\"utterance\", extract_embedding=False)"
   ]
  },
  {
   "cell_type": "code",
   "execution_count": 113,
   "id": "952a2641",
   "metadata": {},
   "outputs": [],
   "source": [
    "    f0, voiced_flag, _= librosa.pyin(\n",
    "                wav, \n",
    "                fmin=65, \n",
    "                fmax=400,\n",
    "                sr=44100,\n",
    "                hop_length=513,\n",
    "                frame_length=2048\n",
    "                )"
   ]
  },
  {
   "cell_type": "code",
   "execution_count": 115,
   "id": "bb76c44e",
   "metadata": {},
   "outputs": [
    {
     "data": {
      "text/plain": [
       "array([False,  True,  True,  True,  True,  True,  True, False, False,\n",
       "       False, False, False, False, False, False, False, False,  True,\n",
       "        True,  True,  True,  True, False,  True,  True,  True,  True,\n",
       "        True,  True,  True,  True,  True,  True,  True,  True,  True,\n",
       "        True,  True, False, False, False, False, False, False,  True,\n",
       "        True,  True,  True,  True,  True,  True,  True,  True,  True,\n",
       "        True,  True,  True,  True,  True,  True,  True,  True,  True,\n",
       "        True,  True,  True,  True,  True,  True, False, False, False,\n",
       "       False, False, False, False, False, False, False, False, False,\n",
       "        True,  True,  True,  True,  True,  True,  True])"
      ]
     },
     "execution_count": 115,
     "metadata": {},
     "output_type": "execute_result"
    }
   ],
   "source": [
    "voiced_flag"
   ]
  },
  {
   "cell_type": "code",
   "execution_count": 116,
   "id": "ba62a018",
   "metadata": {},
   "outputs": [
    {
     "data": {
      "text/plain": [
       "array([121.2942889 , 119.90110517, 119.90110517, 119.90110517,\n",
       "       119.90110517, 115.81683336, 133.80929076, 133.80929076,\n",
       "       133.80929076, 133.80929076, 133.80929076, 122.70366065,\n",
       "       121.2942889 , 119.90110517, 116.48775345, 119.90110517,\n",
       "       121.99693957, 127.0307959 , 129.2512551 , 132.27235997,\n",
       "       133.80929076, 134.5844401 , 134.5844401 , 133.03860596,\n",
       "       130.75308234, 136.14823597,  99.09230651,  99.09230651,\n",
       "        97.38996   ,  94.61745688,  91.39443896,  87.7727465 ,\n",
       "        86.26486325,  85.27402679,  84.29457105,  83.80907005,\n",
       "        83.32636532,  82.84644078,  83.32636532,  86.76459052,\n",
       "        88.79261669,  88.79261669,  87.7727465 ,  84.29457105,\n",
       "        83.80907005,  84.29457105,  84.78288453,  85.27402679,\n",
       "        85.7680142 ,  86.26486325,  85.7680142 ,  96.8290351 ,\n",
       "        97.38996   ,  97.9541343 ,  98.52157682,  98.52157682,\n",
       "        98.52157682,  97.9541343 ])"
      ]
     },
     "execution_count": 116,
     "metadata": {},
     "output_type": "execute_result"
    }
   ],
   "source": [
    "f0[voiced_flag]"
   ]
  },
  {
   "cell_type": "code",
   "execution_count": 97,
   "id": "b916ec46",
   "metadata": {},
   "outputs": [
    {
     "data": {
      "text/plain": [
       "88"
      ]
     },
     "execution_count": 97,
     "metadata": {},
     "output_type": "execute_result"
    }
   ],
   "source": [
    "len(f0)"
   ]
  },
  {
   "cell_type": "code",
   "execution_count": 117,
   "id": "67ee3486",
   "metadata": {},
   "outputs": [
    {
     "data": {
      "text/plain": [
       "106.48432505947197"
      ]
     },
     "execution_count": 117,
     "metadata": {},
     "output_type": "execute_result"
    }
   ],
   "source": [
    "f0[voiced_flag].mean()"
   ]
  }
 ],
 "metadata": {
  "kernelspec": {
   "display_name": "Python 3 (ipykernel)",
   "language": "python",
   "name": "python3"
  },
  "language_info": {
   "codemirror_mode": {
    "name": "ipython",
    "version": 3
   },
   "file_extension": ".py",
   "mimetype": "text/x-python",
   "name": "python",
   "nbconvert_exporter": "python",
   "pygments_lexer": "ipython3",
   "version": "3.9.18"
  }
 },
 "nbformat": 4,
 "nbformat_minor": 5
}
